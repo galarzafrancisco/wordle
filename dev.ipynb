{
 "cells": [
  {
   "cell_type": "code",
   "execution_count": 1,
   "id": "8f264e54",
   "metadata": {},
   "outputs": [],
   "source": [
    "import copy\n",
    "import pandas as pd"
   ]
  },
  {
   "cell_type": "code",
   "execution_count": 2,
   "id": "58d4e12e",
   "metadata": {},
   "outputs": [],
   "source": [
    "common_words_file_name = 'clean-3000-most-common.txt'\n",
    "all_words_file_name = 'clean-words-raw.txt'\n",
    "test_set_file_name = 'test-set.txt'\n",
    "# load words\n",
    "with open(f'data/{common_words_file_name}') as f:\n",
    "    common_words = f.read().split('\\n')\n",
    "with open(f'data/{all_words_file_name}') as f:\n",
    "    all_words = f.read().split('\\n')\n",
    "with open(f'data/{test_set_file_name}') as f:\n",
    "    test_set = f.read().split('\\n')"
   ]
  },
  {
   "cell_type": "code",
   "execution_count": 3,
   "id": "25e0e8c4",
   "metadata": {},
   "outputs": [],
   "source": [
    "class Feedback:\n",
    "    def __init__(self):\n",
    "        self.correct = [None, None, None, None, None]\n",
    "        self.wrong_order = []\n",
    "        self.incorrect = []\n",
    "    \n",
    "    def add_incorrect_char(self, incorrect_char):\n",
    "        self.incorrect.append(incorrect_char)\n",
    "\n",
    "    def add_correct_char(self, correct_char, idx):\n",
    "        self.correct[idx] = correct_char\n",
    "\n",
    "    def add_wrong_order(self, wrong_order_char, idx):\n",
    "        self.wrong_order.append([wrong_order_char, idx])\n",
    "\n",
    "    def print(self):\n",
    "        print(f'correct: {self.correct}')\n",
    "        print(f'incorrect: {self.incorrect}')\n",
    "        print(f'wrong order: {self.wrong_order}')\n",
    "\n",
    "    def copy(self):\n",
    "        return copy.deepcopy(self)"
   ]
  },
  {
   "cell_type": "code",
   "execution_count": 4,
   "id": "9d2dc304",
   "metadata": {},
   "outputs": [],
   "source": [
    "def evaluate_guess(guess, right_answer, feedback):\n",
    "    \"\"\"\n",
    "    Knowing the right answer and given a guess and a feedback object\n",
    "    return the expanded feedback for that guess\n",
    "    \"\"\"\n",
    "    for idx, guess_char in enumerate(guess):\n",
    "        # Find incorrect characters\n",
    "        if guess_char not in right_answer:\n",
    "            feedback.add_incorrect_char(guess_char)\n",
    "        else:\n",
    "            # Find if the character is in the right order\n",
    "            if right_answer[idx] == guess_char:\n",
    "                feedback.add_correct_char(guess_char, idx)\n",
    "            else:\n",
    "                feedback.add_wrong_order(guess_char, idx)\n",
    "    return feedback"
   ]
  },
  {
   "cell_type": "code",
   "execution_count": 5,
   "id": "eb865aac",
   "metadata": {},
   "outputs": [],
   "source": [
    "def get_possible_answers(list_of_words, feedback):\n",
    "    \"given the feedback, what are the possible answers?\"\n",
    "    # Filter out incorrect characters\n",
    "    for incorrect_char in feedback.incorrect:\n",
    "        list_of_words = [w for w in list_of_words if incorrect_char not in w]\n",
    "\n",
    "    # Filter out correct characters\n",
    "    for idx, correct_char in enumerate(feedback.correct):\n",
    "        if correct_char:\n",
    "            list_of_words = [w for w in list_of_words if w[idx] == correct_char]\n",
    "\n",
    "    # Filter out the right characters but wrong order\n",
    "    for [wrong_order_char, idx] in feedback.wrong_order:\n",
    "        if wrong_order_char:\n",
    "            list_of_words = [w for w in list_of_words if wrong_order_char in w and w[idx] != wrong_order_char]\n",
    "\n",
    "    return list_of_words"
   ]
  },
  {
   "cell_type": "code",
   "execution_count": 6,
   "id": "1f644ba0",
   "metadata": {},
   "outputs": [],
   "source": [
    "def rank_options(list_of_words, feedback):\n",
    "    \"\"\"\n",
    "    Ranks a list of words to find the best guess.\n",
    "    If I chose this word, how long would the next list of possible words be?\n",
    "    Takes a list of possible words (list) and a feedback object (correct, wrong order and incorrect characters)\n",
    "    \"\"\"\n",
    "    matrix = [[None for idx in range(len(list_of_words))] for idx in range(len(list_of_words))]\n",
    "    \n",
    "    ranked_words = []\n",
    "    for idx_guess, guess in enumerate(list_of_words):\n",
    "        next_list_length = []\n",
    "        for idx_right_answer, right_answer in enumerate(list_of_words):\n",
    "            internal_feedback = feedback.copy()\n",
    "            internal_feedback = evaluate_guess(guess, right_answer, internal_feedback)\n",
    "            possible_answers = get_possible_answers(list_of_words, internal_feedback)\n",
    "            matrix[idx_right_answer][idx_guess] = len(possible_answers)\n",
    "            next_list_length.append(len(possible_answers))\n",
    "        ranked_words.append([guess, sum(next_list_length) / len(next_list_length) * 1000])\n",
    "    ranked_words.sort(key=lambda x: x[1])\n",
    "    if len(list_of_words) < 20:\n",
    "        df = pd.DataFrame(matrix, columns=list_of_words, index=list_of_words)\n",
    "        print(df)\n",
    "    else:\n",
    "        print('Matrix is too large to print')\n",
    "    return ranked_words"
   ]
  },
  {
   "cell_type": "code",
   "execution_count": 8,
   "id": "e6921798",
   "metadata": {},
   "outputs": [],
   "source": [
    "options = [1,2,3,4]"
   ]
  },
  {
   "cell_type": "code",
   "execution_count": 12,
   "id": "596b97c9",
   "metadata": {},
   "outputs": [
    {
     "data": {
      "text/plain": [
       "4"
      ]
     },
     "execution_count": 12,
     "metadata": {},
     "output_type": "execute_result"
    }
   ],
   "source": [
    "options[-1]"
   ]
  },
  {
   "cell_type": "code",
   "execution_count": 22,
   "id": "64440a10",
   "metadata": {},
   "outputs": [],
   "source": [
    "def print_options(options):\n",
    "    bar_length = 30\n",
    "    number_of_options_to_print = 20\n",
    "    options_to_print = options[0: number_of_options_to_print]\n",
    "    max_score = options_to_print[0][1]\n",
    "    min_score = options_to_print[-1][1]\n",
    "    score_range = max_score - min_score\n",
    "    score_scale = bar_length / (max_score - min_score)\n",
    "    print(min_score)\n",
    "    print(max_score)\n",
    "    print(score_scale)\n",
    "    for [word, score] in options_to_print:\n",
    "        bar = ''.join(['-' if (score - min_score) * score_scale >= idx else ' ' for idx in range(bar_length)])\n",
    "        print(f'{bar} {word}')\n",
    "    "
   ]
  },
  {
   "cell_type": "code",
   "execution_count": 23,
   "id": "8c264aeb",
   "metadata": {},
   "outputs": [
    {
     "name": "stdout",
     "output_type": "stream",
     "text": [
      "1000\n",
      "40\n",
      "-0.03125\n",
      "------------------------------ this\n",
      "---------------------          that\n",
      "-                              ptjer\n"
     ]
    }
   ],
   "source": [
    "options = [\n",
    "    ['this', 40],\n",
    "    ['that', 333],\n",
    "    ['ptjer', 1000]\n",
    "]\n",
    "print_options(options)"
   ]
  },
  {
   "cell_type": "markdown",
   "id": "b1bf367d",
   "metadata": {},
   "source": [
    "# Interactive play"
   ]
  },
  {
   "cell_type": "code",
   "execution_count": 24,
   "id": "dcc09d55",
   "metadata": {},
   "outputs": [
    {
     "name": "stdout",
     "output_type": "stream",
     "text": [
      "\n",
      "\n",
      "------------------------------------------------\n",
      "Round 1\n",
      "\n",
      "Try \"arise\"\n",
      "what word did you enter? ridge\n",
      "what was the feedback? [g/b/y] bybbb\n",
      "Matrix is too large to print\n",
      "14712.765957446809\n",
      "9430.851063829787\n",
      "-0.005679758308157099\n",
      "------------------------------ saint\n",
      "-----------------------------  tails\n",
      "--------------------------     nails\n",
      "-------------------------      satin\n",
      "----------------------         antis\n",
      "----------------------         snail\n",
      "----------------------         slain\n",
      "-------------------            stain\n",
      "-----------                    saith\n",
      "-----------                    pains\n",
      "---------                      toils\n",
      "--------                       mains\n",
      "--------                       pails\n",
      "-------                        hails\n",
      "-------                        thais\n",
      "----                           mails\n",
      "---                            spilt\n",
      "---                            laius\n",
      "--                             baits\n",
      "-                              loins\n",
      "\n",
      "\n",
      "------------------------------------------------\n",
      "Round 2\n",
      "\n",
      "Try \"saint\"\n",
      "what word did you enter? saint\n",
      "what was the feedback? [g/b/y] gbgbb\n",
      "Matrix is too large to print\n",
      "7960.0\n",
      "3000.0\n",
      "-0.006048387096774193\n",
      "------------------------------ slips\n",
      "----------------------------   skips\n",
      "------------------------       ships\n",
      "------------------------       slims\n",
      "--------------------           skims\n",
      "--------------------           spill\n",
      "-------------------            spics\n",
      "-------------------            skimp\n",
      "-----------------              spivs\n",
      "----------------               shims\n",
      "----------------               slick\n",
      "----------------               swims\n",
      "--------------                 spiky\n",
      "------------                   slimy\n",
      "-----------                    soils\n",
      "----------                     skill\n",
      "-----                          shill\n",
      "---                            swill\n",
      "--                             shivs\n",
      "-                              spicy\n",
      "\n",
      "\n",
      "------------------------------------------------\n",
      "Round 3\n",
      "\n",
      "Try \"slips\"\n",
      "what word did you enter? slips\n",
      "what was the feedback? [g/b/y] gygbb\n",
      "Empty DataFrame\n",
      "Columns: []\n",
      "Index: []\n"
     ]
    },
    {
     "ename": "IndexError",
     "evalue": "list index out of range",
     "output_type": "error",
     "traceback": [
      "\u001b[0;31m---------------------------------------------------------------------------\u001b[0m",
      "\u001b[0;31mIndexError\u001b[0m                                Traceback (most recent call last)",
      "Input \u001b[0;32mIn [24]\u001b[0m, in \u001b[0;36m<module>\u001b[0;34m\u001b[0m\n\u001b[1;32m     36\u001b[0m \u001b[38;5;66;03m#         possible_answers = get_possible_answers(common_words, feedback)\u001b[39;00m\n\u001b[1;32m     37\u001b[0m \u001b[38;5;66;03m#         if len(possible_answers) < 3:\u001b[39;00m\n\u001b[1;32m     38\u001b[0m \u001b[38;5;66;03m#             possible_answers = get_possible_answers(all_words, feedback)\u001b[39;00m\n\u001b[1;32m     39\u001b[0m         options \u001b[38;5;241m=\u001b[39m rank_options(possible_answers, feedback)\n\u001b[0;32m---> 40\u001b[0m         \u001b[43mprint_options\u001b[49m\u001b[43m(\u001b[49m\u001b[43moptions\u001b[49m\u001b[43m)\u001b[49m\n\u001b[1;32m     41\u001b[0m \u001b[38;5;66;03m#         if len(options) < 1000:\u001b[39;00m\n\u001b[1;32m     42\u001b[0m \u001b[38;5;66;03m#             print(options)\u001b[39;00m\n\u001b[1;32m     43\u001b[0m         guess \u001b[38;5;241m=\u001b[39m options[\u001b[38;5;241m0\u001b[39m][\u001b[38;5;241m0\u001b[39m]\n",
      "Input \u001b[0;32mIn [22]\u001b[0m, in \u001b[0;36mprint_options\u001b[0;34m(options)\u001b[0m\n\u001b[1;32m      3\u001b[0m number_of_options_to_print \u001b[38;5;241m=\u001b[39m \u001b[38;5;241m20\u001b[39m\n\u001b[1;32m      4\u001b[0m options_to_print \u001b[38;5;241m=\u001b[39m options[\u001b[38;5;241m0\u001b[39m: number_of_options_to_print]\n\u001b[0;32m----> 5\u001b[0m max_score \u001b[38;5;241m=\u001b[39m \u001b[43moptions_to_print\u001b[49m\u001b[43m[\u001b[49m\u001b[38;5;241;43m0\u001b[39;49m\u001b[43m]\u001b[49m[\u001b[38;5;241m1\u001b[39m]\n\u001b[1;32m      6\u001b[0m min_score \u001b[38;5;241m=\u001b[39m options_to_print[\u001b[38;5;241m-\u001b[39m\u001b[38;5;241m1\u001b[39m][\u001b[38;5;241m1\u001b[39m]\n\u001b[1;32m      7\u001b[0m score_range \u001b[38;5;241m=\u001b[39m max_score \u001b[38;5;241m-\u001b[39m min_score\n",
      "\u001b[0;31mIndexError\u001b[0m: list index out of range"
     ]
    }
   ],
   "source": [
    "feedback = Feedback()\n",
    "win = False\n",
    "turn = 1\n",
    "guess = 'arise'\n",
    "while not win:\n",
    "\n",
    "    print('')\n",
    "    print('')\n",
    "    print('------------------------------------------------')\n",
    "    print(f'Round {turn}')\n",
    "    print('')\n",
    "    \n",
    "    # Recommend option and ask for feedback from the user\n",
    "    print(f'Try \"{guess}\"')\n",
    "    guess = input(\"what word did you enter? \")\n",
    "    colours = ''\n",
    "    while len(colours) != 5:\n",
    "        colours = input(\"what was the feedback? [g/b/y] \")\n",
    "    if colours == 'ggggg':\n",
    "        win = True\n",
    "        print(\"Congratulations!\")\n",
    "    else:\n",
    "        for idx, colour in enumerate(colours):\n",
    "            if colour == 'g':\n",
    "                # right guess \n",
    "                feedback.add_correct_char(guess[idx], idx)\n",
    "            elif colour == 'y':\n",
    "                # wrong order\n",
    "                feedback.add_wrong_order(guess[idx], idx)\n",
    "            elif colour == 'b':\n",
    "                # wrong character\n",
    "                feedback.add_incorrect_char(guess[idx])\n",
    "\n",
    "        # Evaluate feedback and get new answers\n",
    "        possible_answers = get_possible_answers(all_words, feedback)\n",
    "#         possible_answers = get_possible_answers(common_words, feedback)\n",
    "#         if len(possible_answers) < 3:\n",
    "#             possible_answers = get_possible_answers(all_words, feedback)\n",
    "        options = rank_options(possible_answers, feedback)\n",
    "        print_options(options)\n",
    "#         if len(options) < 1000:\n",
    "#             print(options)\n",
    "        guess = options[0][0]\n",
    "        turn += 1\n",
    "    "
   ]
  },
  {
   "cell_type": "markdown",
   "id": "5e26d403",
   "metadata": {},
   "source": [
    "# Integrate selenium"
   ]
  },
  {
   "cell_type": "code",
   "execution_count": 28,
   "id": "4bfcb793",
   "metadata": {},
   "outputs": [],
   "source": [
    "# Parsing\n",
    "from selenium import webdriver\n",
    "from bs4 import BeautifulSoup\n",
    "from webdriver_manager.chrome import ChromeDriverManager\n",
    "import requests\n",
    "import time"
   ]
  },
  {
   "cell_type": "code",
   "execution_count": 15,
   "id": "aa8d314f",
   "metadata": {},
   "outputs": [
    {
     "name": "stderr",
     "output_type": "stream",
     "text": [
      "\n",
      "\n",
      "====== WebDriver manager ======\n",
      "Current google-chrome version is 97.0.4692\n",
      "Get LATEST chromedriver version for 97.0.4692 google-chrome\n",
      "Driver [/Users/franciscogalarza/.wdm/drivers/chromedriver/mac64/97.0.4692.71/chromedriver] found in cache\n",
      "/var/folders/_0/3cmjzq_s335284nqqhkx35qw0000gn/T/ipykernel_23645/1184884865.py:1: DeprecationWarning: executable_path has been deprecated, please pass in a Service object\n",
      "  browser = webdriver.Chrome(ChromeDriverManager().install())\n"
     ]
    }
   ],
   "source": [
    "browser = webdriver.Chrome(ChromeDriverManager().install())\n",
    "browser.get('https://www.powerlanguage.co.uk/wordle/')"
   ]
  },
  {
   "cell_type": "code",
   "execution_count": 34,
   "id": "0a11aa20",
   "metadata": {},
   "outputs": [],
   "source": [
    "# Close pop up by clicking something\n",
    "body = browser.find_element(by='xpath', value='//html')\n",
    "body.click()"
   ]
  },
  {
   "cell_type": "code",
   "execution_count": 29,
   "id": "3250fd98",
   "metadata": {},
   "outputs": [],
   "source": [
    "def write_wrod(word):\n",
    "    for character in word:\n",
    "        body.send_keys(character)\n",
    "        time.sleep(0.3)\n",
    "    body.send_keys(u'\\ue007')\n",
    "\n",
    "def get_state():\n",
    "    "
   ]
  },
  {
   "cell_type": "code",
   "execution_count": 48,
   "id": "113e2a6b",
   "metadata": {},
   "outputs": [
    {
     "ename": "NoSuchElementException",
     "evalue": "Message: no such element: Unable to locate element: {\"method\":\"css selector\",\"selector\":\"[id=\"board\"]\"}\n  (Session info: chrome=97.0.4692.99)\nStacktrace:\n0   chromedriver                        0x0000000102618e69 chromedriver + 5160553\n1   chromedriver                        0x00000001025a3593 chromedriver + 4679059\n2   chromedriver                        0x00000001021572c8 chromedriver + 172744\n3   chromedriver                        0x000000010218cb62 chromedriver + 392034\n4   chromedriver                        0x000000010218cd21 chromedriver + 392481\n5   chromedriver                        0x00000001021bf304 chromedriver + 598788\n6   chromedriver                        0x00000001021aa3fd chromedriver + 513021\n7   chromedriver                        0x00000001021bd0ab chromedriver + 589995\n8   chromedriver                        0x00000001021aa623 chromedriver + 513571\n9   chromedriver                        0x000000010217fdce chromedriver + 339406\n10  chromedriver                        0x0000000102181105 chromedriver + 344325\n11  chromedriver                        0x00000001025d423e chromedriver + 4878910\n12  chromedriver                        0x00000001025ebd17 chromedriver + 4975895\n13  chromedriver                        0x00000001025f1a3f chromedriver + 4999743\n14  chromedriver                        0x00000001025ec61a chromedriver + 4978202\n15  chromedriver                        0x00000001025c8bb1 chromedriver + 4832177\n16  chromedriver                        0x0000000102608fd8 chromedriver + 5095384\n17  chromedriver                        0x0000000102609161 chromedriver + 5095777\n18  chromedriver                        0x00000001026202a8 chromedriver + 5190312\n19  libsystem_pthread.dylib             0x00007fff7201a109 _pthread_start + 148\n20  libsystem_pthread.dylib             0x00007fff72015b8b thread_start + 15\n",
     "output_type": "error",
     "traceback": [
      "\u001b[0;31m---------------------------------------------------------------------------\u001b[0m",
      "\u001b[0;31mNoSuchElementException\u001b[0m                    Traceback (most recent call last)",
      "Input \u001b[0;32mIn [48]\u001b[0m, in \u001b[0;36m<module>\u001b[0;34m\u001b[0m\n\u001b[0;32m----> 1\u001b[0m \u001b[43mbrowser\u001b[49m\u001b[38;5;241;43m.\u001b[39;49m\u001b[43mfind_element\u001b[49m\u001b[43m(\u001b[49m\u001b[43mby\u001b[49m\u001b[38;5;241;43m=\u001b[39;49m\u001b[38;5;124;43m'\u001b[39;49m\u001b[38;5;124;43mid\u001b[39;49m\u001b[38;5;124;43m'\u001b[39;49m\u001b[43m,\u001b[49m\u001b[43m \u001b[49m\u001b[43mvalue\u001b[49m\u001b[38;5;241;43m=\u001b[39;49m\u001b[38;5;124;43m'\u001b[39;49m\u001b[38;5;124;43mboard\u001b[39;49m\u001b[38;5;124;43m'\u001b[39;49m\u001b[43m)\u001b[49m\n",
      "File \u001b[0;32m~/projects/wordle/env/lib/python3.9/site-packages/selenium/webdriver/remote/webdriver.py:1244\u001b[0m, in \u001b[0;36mWebDriver.find_element\u001b[0;34m(self, by, value)\u001b[0m\n\u001b[1;32m   1241\u001b[0m     by \u001b[38;5;241m=\u001b[39m By\u001b[38;5;241m.\u001b[39mCSS_SELECTOR\n\u001b[1;32m   1242\u001b[0m     value \u001b[38;5;241m=\u001b[39m \u001b[38;5;124m'\u001b[39m\u001b[38;5;124m[name=\u001b[39m\u001b[38;5;124m\"\u001b[39m\u001b[38;5;132;01m%s\u001b[39;00m\u001b[38;5;124m\"\u001b[39m\u001b[38;5;124m]\u001b[39m\u001b[38;5;124m'\u001b[39m \u001b[38;5;241m%\u001b[39m value\n\u001b[0;32m-> 1244\u001b[0m \u001b[38;5;28;01mreturn\u001b[39;00m \u001b[38;5;28;43mself\u001b[39;49m\u001b[38;5;241;43m.\u001b[39;49m\u001b[43mexecute\u001b[49m\u001b[43m(\u001b[49m\u001b[43mCommand\u001b[49m\u001b[38;5;241;43m.\u001b[39;49m\u001b[43mFIND_ELEMENT\u001b[49m\u001b[43m,\u001b[49m\u001b[43m \u001b[49m\u001b[43m{\u001b[49m\n\u001b[1;32m   1245\u001b[0m \u001b[43m    \u001b[49m\u001b[38;5;124;43m'\u001b[39;49m\u001b[38;5;124;43musing\u001b[39;49m\u001b[38;5;124;43m'\u001b[39;49m\u001b[43m:\u001b[49m\u001b[43m \u001b[49m\u001b[43mby\u001b[49m\u001b[43m,\u001b[49m\n\u001b[1;32m   1246\u001b[0m \u001b[43m    \u001b[49m\u001b[38;5;124;43m'\u001b[39;49m\u001b[38;5;124;43mvalue\u001b[39;49m\u001b[38;5;124;43m'\u001b[39;49m\u001b[43m:\u001b[49m\u001b[43m \u001b[49m\u001b[43mvalue\u001b[49m\u001b[43m}\u001b[49m\u001b[43m)\u001b[49m[\u001b[38;5;124m'\u001b[39m\u001b[38;5;124mvalue\u001b[39m\u001b[38;5;124m'\u001b[39m]\n",
      "File \u001b[0;32m~/projects/wordle/env/lib/python3.9/site-packages/selenium/webdriver/remote/webdriver.py:424\u001b[0m, in \u001b[0;36mWebDriver.execute\u001b[0;34m(self, driver_command, params)\u001b[0m\n\u001b[1;32m    422\u001b[0m response \u001b[38;5;241m=\u001b[39m \u001b[38;5;28mself\u001b[39m\u001b[38;5;241m.\u001b[39mcommand_executor\u001b[38;5;241m.\u001b[39mexecute(driver_command, params)\n\u001b[1;32m    423\u001b[0m \u001b[38;5;28;01mif\u001b[39;00m response:\n\u001b[0;32m--> 424\u001b[0m     \u001b[38;5;28;43mself\u001b[39;49m\u001b[38;5;241;43m.\u001b[39;49m\u001b[43merror_handler\u001b[49m\u001b[38;5;241;43m.\u001b[39;49m\u001b[43mcheck_response\u001b[49m\u001b[43m(\u001b[49m\u001b[43mresponse\u001b[49m\u001b[43m)\u001b[49m\n\u001b[1;32m    425\u001b[0m     response[\u001b[38;5;124m'\u001b[39m\u001b[38;5;124mvalue\u001b[39m\u001b[38;5;124m'\u001b[39m] \u001b[38;5;241m=\u001b[39m \u001b[38;5;28mself\u001b[39m\u001b[38;5;241m.\u001b[39m_unwrap_value(\n\u001b[1;32m    426\u001b[0m         response\u001b[38;5;241m.\u001b[39mget(\u001b[38;5;124m'\u001b[39m\u001b[38;5;124mvalue\u001b[39m\u001b[38;5;124m'\u001b[39m, \u001b[38;5;28;01mNone\u001b[39;00m))\n\u001b[1;32m    427\u001b[0m     \u001b[38;5;28;01mreturn\u001b[39;00m response\n",
      "File \u001b[0;32m~/projects/wordle/env/lib/python3.9/site-packages/selenium/webdriver/remote/errorhandler.py:247\u001b[0m, in \u001b[0;36mErrorHandler.check_response\u001b[0;34m(self, response)\u001b[0m\n\u001b[1;32m    245\u001b[0m         alert_text \u001b[38;5;241m=\u001b[39m value[\u001b[38;5;124m'\u001b[39m\u001b[38;5;124malert\u001b[39m\u001b[38;5;124m'\u001b[39m]\u001b[38;5;241m.\u001b[39mget(\u001b[38;5;124m'\u001b[39m\u001b[38;5;124mtext\u001b[39m\u001b[38;5;124m'\u001b[39m)\n\u001b[1;32m    246\u001b[0m     \u001b[38;5;28;01mraise\u001b[39;00m exception_class(message, screen, stacktrace, alert_text)  \u001b[38;5;66;03m# type: ignore[call-arg]  # mypy is not smart enough here\u001b[39;00m\n\u001b[0;32m--> 247\u001b[0m \u001b[38;5;28;01mraise\u001b[39;00m exception_class(message, screen, stacktrace)\n",
      "\u001b[0;31mNoSuchElementException\u001b[0m: Message: no such element: Unable to locate element: {\"method\":\"css selector\",\"selector\":\"[id=\"board\"]\"}\n  (Session info: chrome=97.0.4692.99)\nStacktrace:\n0   chromedriver                        0x0000000102618e69 chromedriver + 5160553\n1   chromedriver                        0x00000001025a3593 chromedriver + 4679059\n2   chromedriver                        0x00000001021572c8 chromedriver + 172744\n3   chromedriver                        0x000000010218cb62 chromedriver + 392034\n4   chromedriver                        0x000000010218cd21 chromedriver + 392481\n5   chromedriver                        0x00000001021bf304 chromedriver + 598788\n6   chromedriver                        0x00000001021aa3fd chromedriver + 513021\n7   chromedriver                        0x00000001021bd0ab chromedriver + 589995\n8   chromedriver                        0x00000001021aa623 chromedriver + 513571\n9   chromedriver                        0x000000010217fdce chromedriver + 339406\n10  chromedriver                        0x0000000102181105 chromedriver + 344325\n11  chromedriver                        0x00000001025d423e chromedriver + 4878910\n12  chromedriver                        0x00000001025ebd17 chromedriver + 4975895\n13  chromedriver                        0x00000001025f1a3f chromedriver + 4999743\n14  chromedriver                        0x00000001025ec61a chromedriver + 4978202\n15  chromedriver                        0x00000001025c8bb1 chromedriver + 4832177\n16  chromedriver                        0x0000000102608fd8 chromedriver + 5095384\n17  chromedriver                        0x0000000102609161 chromedriver + 5095777\n18  chromedriver                        0x00000001026202a8 chromedriver + 5190312\n19  libsystem_pthread.dylib             0x00007fff7201a109 _pthread_start + 148\n20  libsystem_pthread.dylib             0x00007fff72015b8b thread_start + 15\n"
     ]
    }
   ],
   "source": [
    "browser.find_element(by='id', value='board')"
   ]
  },
  {
   "cell_type": "code",
   "execution_count": 33,
   "id": "7fafcbee",
   "metadata": {},
   "outputs": [],
   "source": [
    "# write_wrod('arise')\n",
    "body.send_keys(u'\\ue007')"
   ]
  },
  {
   "cell_type": "code",
   "execution_count": null,
   "id": "0eeae509",
   "metadata": {},
   "outputs": [],
   "source": []
  },
  {
   "cell_type": "markdown",
   "id": "d6a461fa",
   "metadata": {},
   "source": [
    "# Test dictionary"
   ]
  },
  {
   "cell_type": "code",
   "execution_count": 7,
   "id": "760b52ae",
   "metadata": {},
   "outputs": [],
   "source": [
    "from PyDictionary import PyDictionary"
   ]
  },
  {
   "cell_type": "code",
   "execution_count": 8,
   "id": "d477292e",
   "metadata": {},
   "outputs": [],
   "source": [
    "dictionary=PyDictionary()"
   ]
  },
  {
   "cell_type": "code",
   "execution_count": 9,
   "id": "efac24b2",
   "metadata": {},
   "outputs": [
    {
     "data": {
      "text/plain": [
       "{'Noun': ['feline mammal usually having thick soft fur and no ability to roar: domestic cats; wildcats',\n",
       "  'an informal term for a youth or man',\n",
       "  'a spiteful woman gossip',\n",
       "  'the leaves of the shrub Catha edulis which are chewed like tobacco or used to make tea; has the effect of a euphoric stimulant',\n",
       "  'a whip with nine knotted cords',\n",
       "  'a large tracked vehicle that is propelled by two endless metal belts; frequently used for moving earth in construction and farm work',\n",
       "  'any of several large cats typically able to roar and living in the wild',\n",
       "  'a method of examining body organs by scanning them with X rays and using a computer to construct a series of cross-sectional scans along a single axis'],\n",
       " 'Verb': [\"beat with a cat-o'-nine-tails\",\n",
       "  'eject the contents of the stomach through the mouth']}"
      ]
     },
     "execution_count": 9,
     "metadata": {},
     "output_type": "execute_result"
    }
   ],
   "source": [
    "dictionary.meaning('cat')"
   ]
  },
  {
   "cell_type": "code",
   "execution_count": 10,
   "id": "02fe409b",
   "metadata": {},
   "outputs": [
    {
     "name": "stdout",
     "output_type": "stream",
     "text": [
      "Error: The Following Error occured: list index out of range\n"
     ]
    }
   ],
   "source": [
    "dictionary.meaning('whose')"
   ]
  },
  {
   "cell_type": "markdown",
   "id": "0d69bd72",
   "metadata": {},
   "source": [
    "## This dictionary does not contain all words so it will not be useful.\n",
    "#### Try this: https://stackoverflow.com/questions/3788870/how-to-check-if-a-word-is-an-english-word-with-python"
   ]
  },
  {
   "cell_type": "code",
   "execution_count": 11,
   "id": "9c56dc58",
   "metadata": {},
   "outputs": [],
   "source": [
    "# !pip install pyenchant"
   ]
  },
  {
   "cell_type": "code",
   "execution_count": 12,
   "id": "c0e29deb",
   "metadata": {},
   "outputs": [],
   "source": [
    "# !brew install enchant"
   ]
  },
  {
   "cell_type": "code",
   "execution_count": 13,
   "id": "6c7fbb78",
   "metadata": {},
   "outputs": [],
   "source": [
    "import enchant"
   ]
  },
  {
   "cell_type": "code",
   "execution_count": 24,
   "id": "0d00f310",
   "metadata": {},
   "outputs": [],
   "source": [
    "dictionary = enchant.Dict('en_GB')"
   ]
  },
  {
   "cell_type": "code",
   "execution_count": 25,
   "id": "67aca2ba",
   "metadata": {},
   "outputs": [
    {
     "data": {
      "text/plain": [
       "True"
      ]
     },
     "execution_count": 25,
     "metadata": {},
     "output_type": "execute_result"
    }
   ],
   "source": [
    "dictionary.check('pizza')"
   ]
  },
  {
   "cell_type": "code",
   "execution_count": null,
   "id": "ab1bf9a7",
   "metadata": {},
   "outputs": [],
   "source": []
  },
  {
   "cell_type": "code",
   "execution_count": 8,
   "id": "48c6975e",
   "metadata": {},
   "outputs": [
    {
     "name": "stdout",
     "output_type": "stream",
     "text": [
      "       civil  fifth  fifty  fight  imply  light  limit  might  night  pilot  \\\n",
      "civil      1      1      1      1      3      1      1      1      1      1   \n",
      "fifth      6      1      1      1      4      2      3      2      2      2   \n",
      "fifty      6      1      1      1      1      1      3      1      1      2   \n",
      "fight      6      1      1      1      4      4      3      4      4      4   \n",
      "imply      1      1      1      1      1      1      1      1      1      1   \n",
      "light      2      4      7      4      3      1      1      4      4      2   \n",
      "limit      1      2      7      2      1      1      1      1      2      2   \n",
      "might      6      4      7      4      1      4      1      1      4      4   \n",
      "night      6      4      7      4      4      4      3      4      1      4   \n",
      "pilot      2      2      7      2      1      1      1      1      2      1   \n",
      "pitch      1      1      7      1      1      2      3      2      2      1   \n",
      "tight      6      4      7      4      4      4      3      4      4      4   \n",
      "topic      1      2      2      2      1      1      1      2      1      1   \n",
      "until      1      2      2      2      3      1      1      2      1      1   \n",
      "\n",
      "       pitch  tight  topic  until  \n",
      "civil      1      1      1      1  \n",
      "fifth      1      2      6      5  \n",
      "fifty      2      1      6      5  \n",
      "fight      5      4      6      5  \n",
      "imply      1      1      1      1  \n",
      "light      5      4      6      2  \n",
      "limit      2      2      2      1  \n",
      "might      5      4      6      5  \n",
      "night      5      4      6      1  \n",
      "pilot      1      2      1      2  \n",
      "pitch      1      2      1      1  \n",
      "tight      5      1      1      5  \n",
      "topic      1      1      1      1  \n",
      "until      1      1      2      1  \n",
      "Guess: limit\n",
      "possible_answers\n",
      "['licht', 'licit', 'light', 'limit']\n",
      "       licht  licit  light  limit\n",
      "licht      1      1      1      2\n",
      "licit      1      1      2      1\n",
      "light      1      1      1      2\n",
      "limit      1      1      2      1\n",
      "Guess: licht\n"
     ]
    }
   ],
   "source": [
    "# Helper\n",
    "feedback = Feedback()\n",
    "\n",
    "# Round 0\n",
    "guess = 'arise'\n",
    "feedback.add_incorrect_char('a')\n",
    "feedback.add_incorrect_char('r')\n",
    "# feedback.add_incorrect_char('i')\n",
    "feedback.add_incorrect_char('s')\n",
    "feedback.add_incorrect_char('e')\n",
    "# feedback.add_correct_char('a', 0)\n",
    "# feedback.add_correct_char('r', 0)\n",
    "# feedback.add_correct_char('i', 0)\n",
    "# feedback.add_correct_char('s', 0)\n",
    "# feedback.add_correct_char('e', 0)\n",
    "# feedback.add_wrong_order('a', 0)\n",
    "# feedback.add_wrong_order('r', 1)\n",
    "feedback.add_wrong_order('i', 2)\n",
    "# feedback.add_wrong_order('s', 3)\n",
    "# feedback.add_wrong_order('e', 4)\n",
    "\n",
    "# Round 1\n",
    "possible_answers = get_possible_answers(common_words, feedback)\n",
    "options = rank_options(possible_answers, feedback)\n",
    "guess = options[0][0]\n",
    "print(f'Guess: {guess}')\n",
    "# feedback.add_incorrect_char('m')\n",
    "# feedback.add_incorrect_char('i')\n",
    "feedback.add_correct_char('l', 0)\n",
    "feedback.add_correct_char('i', 1)\n",
    "feedback.add_correct_char('t', 4)\n",
    "# feedback.add_correct_char('m', 4)\n",
    "# feedback.add_wrong_order('i', 3)\n",
    "# feedback.add_wrong_order('o', 2)\n",
    "# feedback.add_wrong_order('c', 3)\n",
    "\n",
    "# Round 2\n",
    "possible_answers = get_possible_answers(all_words, feedback)\n",
    "print('possible_answers')\n",
    "print(possible_answers)\n",
    "options = rank_options(possible_answers, feedback)\n",
    "guess = options[0][0]\n",
    "print(f'Guess: {guess}')\n",
    "# # feedback.add_incorrect_char('l')\n",
    "# # # feedback.add_incorrect_char('l')\n",
    "# # feedback.add_correct_char('e', 1)\n",
    "# # feedback.add_correct_char('y', 4)\n",
    "# # feedback.add_wrong_order('r', 0)\n",
    "# # feedback.add_wrong_order('p', 2)\n",
    "\n",
    "# # # Round 3\n",
    "# possible_answers = get_possible_answers(all_words, feedback)\n",
    "# options = rank_options(possible_answers, feedback)\n",
    "# print(options)\n",
    "# guess = options[0][0]\n",
    "# print(f'Guess: {guess}')\n",
    "# feedback.add_correct_char('c', 0)\n",
    "# feedback.add_correct_char('o', 1)\n",
    "# feedback.add_incorrect_char('n')\n",
    "\n",
    "# # Round 4\n",
    "# possible_answers = get_possible_answers(all_words, feedback)\n",
    "# options = rank_options(possible_answers, feedback)\n",
    "# print(options)\n",
    "# guess = options[0][0]\n",
    "# print(f'Guess: {guess}')\n"
   ]
  },
  {
   "cell_type": "code",
   "execution_count": 9,
   "id": "e9ded472",
   "metadata": {},
   "outputs": [
    {
     "name": "stdout",
     "output_type": "stream",
     "text": [
      "correct: ['l', 'i', None, None, 't']\n",
      "incorrect: ['a', 'r', 's', 'e']\n",
      "wrong order: [['i', 2]]\n"
     ]
    }
   ],
   "source": [
    "feedback.print()"
   ]
  },
  {
   "cell_type": "code",
   "execution_count": null,
   "id": "ee6778b4",
   "metadata": {},
   "outputs": [],
   "source": []
  },
  {
   "cell_type": "code",
   "execution_count": 10,
   "id": "a62cd8c4",
   "metadata": {
    "scrolled": true
   },
   "outputs": [],
   "source": [
    "# # Init game\n",
    "# feedback = Feedback()\n",
    "# right_answer = 'query'\n",
    "# guess = 'arise'\n",
    "# words_set = all_words\n",
    "\n",
    "# # Play until the correct answer is found\n",
    "# turn = 0\n",
    "# while None in feedback.correct:\n",
    "#     print('')\n",
    "#     print('')\n",
    "#     print('')\n",
    "#     print('----------------------------------------------------')\n",
    "#     print(f'Round {turn} - Choice: \"{guess}\"')\n",
    "#     print('----------------------------------------------------')\n",
    "#     print(f'Choice: \"{guess}\"')\n",
    "#     # Get feedback\n",
    "#     feedback = evaluate_guess(guess, right_answer, feedback)\n",
    "# #     feedback.print()\n",
    "#     print(feedback.correct)\n",
    "#     # Get possible answers\n",
    "#     possible_answers = get_possible_answers(common_words, feedback)\n",
    "#     if len(possible_answers) == 0:\n",
    "#         possible_answers = get_possible_answers(all_words, feedback)    \n",
    "#     print(f'possible answers: {len(possible_answers)}')\n",
    "#     # Choose next word\n",
    "#     options = rank_options(possible_answers, feedback)\n",
    "# #     print(f'ranked options: {options}')\n",
    "#     # Take the first option\n",
    "#     guess = options[0][0]\n",
    "#     turn += 1\n",
    "\n"
   ]
  },
  {
   "cell_type": "code",
   "execution_count": null,
   "id": "abe0cc32",
   "metadata": {},
   "outputs": [],
   "source": []
  },
  {
   "cell_type": "code",
   "execution_count": null,
   "id": "58e00051",
   "metadata": {},
   "outputs": [],
   "source": []
  }
 ],
 "metadata": {
  "kernelspec": {
   "display_name": "Python 3 (ipykernel)",
   "language": "python",
   "name": "python3"
  },
  "language_info": {
   "codemirror_mode": {
    "name": "ipython",
    "version": 3
   },
   "file_extension": ".py",
   "mimetype": "text/x-python",
   "name": "python",
   "nbconvert_exporter": "python",
   "pygments_lexer": "ipython3",
   "version": "3.9.10"
  }
 },
 "nbformat": 4,
 "nbformat_minor": 5
}
